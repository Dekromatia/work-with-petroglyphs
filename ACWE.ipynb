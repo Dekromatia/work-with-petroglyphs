{
 "cells": [
  {
   "cell_type": "code",
   "execution_count": null,
   "id": "2f533339-8207-4890-9b6e-857262b71782",
   "metadata": {},
   "outputs": [],
   "source": [
    "def store_evolution_in(lst):\n",
    "    \"\"\"Returns a callback function to store the evolution of the level sets in\n",
    "    the given list.\n",
    "    \"\"\"\n",
    "\n",
    "    def _store(x):\n",
    "        lst.append(np.copy(x))\n",
    "\n",
    "    return _store\n",
    "\n",
    "\n",
    "# Morphological ACWE\n",
    "deer_float = img_as_float(deer_gray)\n",
    "\n",
    "# Initial level set\n",
    "init_ls = checkerboard_level_set(deer_float.shape, 5)\n",
    "# List with intermediate results for plotting the evolution\n",
    "evolution = []\n",
    "callback = store_evolution_in(evolution)\n",
    "ls = morphological_chan_vese(deer_float, num_iter=30, init_level_set=init_ls,\n",
    "                             smoothing=10, iter_callback=callback)\n",
    "\n",
    "fig, axes = plt.subplots(1, 2, figsize=(8, 8))\n",
    "ax = axes.flatten()\n",
    "\n",
    "ax[0].imshow(deer_float, cmap=\"gray\")\n",
    "ax[0].set_axis_off()\n",
    "ax[0].contour(ls, [0.5], colors='r')\n",
    "ax[0].set_title(\"Morphological ACWE segmentation\", fontsize=12)\n",
    "\n",
    "ax[1].imshow(ls, cmap=\"gray\")\n",
    "ax[1].set_axis_off()\n",
    "\n",
    "contour = ax[1].contour(evolution[-5], [0.5], colors='g')\n",
    "contour.collections[0].set_label(\"Iteration 2\")\n",
    "contour = ax[1].contour(evolution[7], [0.5], colors='y')\n",
    "contour.collections[0].set_label(\"Iteration 7\")\n",
    "contour = ax[1].contour(evolution[-1], [0.5], colors='r')\n",
    "contour.collections[0].set_label(\"Iteration 30\")\n",
    "ax[1].legend(loc=\"upper right\")\n",
    "title = \"Morphological ACWE evolution\"\n",
    "ax[1].set_title(title, fontsize=12)"
   ]
  }
 ],
 "metadata": {
  "kernelspec": {
   "display_name": "Python 3 (ipykernel)",
   "language": "python",
   "name": "python3"
  },
  "language_info": {
   "codemirror_mode": {
    "name": "ipython",
    "version": 3
   },
   "file_extension": ".py",
   "mimetype": "text/x-python",
   "name": "python",
   "nbconvert_exporter": "python",
   "pygments_lexer": "ipython3",
   "version": "3.9.7"
  }
 },
 "nbformat": 4,
 "nbformat_minor": 5
}
