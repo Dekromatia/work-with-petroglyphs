{
 "cells": [
  {
   "cell_type": "code",
   "execution_count": null,
   "id": "a9536204-ed7a-43ee-ab51-720ae94943e2",
   "metadata": {},
   "outputs": [],
   "source": [
    "#CANNY\n",
    "import numpy as np\n",
    "import matplotlib.pyplot as plt\n",
    "from scipy import ndimage as ndi\n",
    "from skimage.util import random_noise\n",
    "from skimage import feature\n",
    "\n",
    "\n",
    "# Generate noisy image of a square\n",
    "image = np.zeros((128, 128), dtype=float)\n",
    "image[32:-32, 32:-32] = 1\n",
    "\n",
    "image = ndi.rotate(image, 15, mode='constant')\n",
    "image = ndi.gaussian_filter(image, 4)\n",
    "image = random_noise(image, mode='speckle', mean=0.1)\n",
    "\n",
    "# Compute the Canny filter for two values of sigma\n",
    "edges1 = feature.canny(image)\n",
    "edges2 = feature.canny(image, sigma=3)\n",
    "\n",
    "# display results\n",
    "fig, ax = plt.subplots(nrows=1, ncols=3, figsize=(8, 3))\n",
    "\n",
    "ax[0].imshow(image, cmap='gray')\n",
    "ax[0].set_title('noisy image', fontsize=20)\n",
    "\n",
    "ax[1].imshow(edges1, cmap='gray')\n",
    "ax[1].set_title(r'Canny filter, $\\sigma=1$', fontsize=20)\n",
    "\n",
    "ax[2].imshow(edges2, cmap='gray')\n",
    "ax[2].set_title(r'Canny filter, $\\sigma=3$', fontsize=20)\n",
    "\n",
    "for a in ax:\n",
    "    a.axis('off')\n",
    "\n",
    "fig.tight_layout()\n",
    "plt.show()"
   ]
  }
 ],
 "metadata": {
  "kernelspec": {
   "display_name": "Python 3 (ipykernel)",
   "language": "python",
   "name": "python3"
  },
  "language_info": {
   "codemirror_mode": {
    "name": "ipython",
    "version": 3
   },
   "file_extension": ".py",
   "mimetype": "text/x-python",
   "name": "python",
   "nbconvert_exporter": "python",
   "pygments_lexer": "ipython3",
   "version": "3.9.7"
  }
 },
 "nbformat": 4,
 "nbformat_minor": 5
}
